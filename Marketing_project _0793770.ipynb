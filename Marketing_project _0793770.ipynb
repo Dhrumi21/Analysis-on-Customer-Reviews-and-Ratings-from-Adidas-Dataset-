{
 "cells": [
  {
   "cell_type": "markdown",
   "id": "e49dcb19-9c34-4c8c-966e-a08707c1e6c2",
   "metadata": {},
   "source": [
    "### DAB 303 Marketing Analytics (Section- 005)"
   ]
  },
  {
   "cell_type": "markdown",
   "id": "6360fbbd-7250-4601-be96-4575360e886d",
   "metadata": {},
   "source": [
    "### Dhrumi Patel (0793770)"
   ]
  },
  {
   "cell_type": "markdown",
   "id": "dbaf8311-b130-4316-abde-9e8a9150625a",
   "metadata": {},
   "source": [
    "### Analysis on Customer Reviews and Ratings From Adidas Dataset"
   ]
  },
  {
   "cell_type": "code",
   "execution_count": null,
   "id": "3b880194-43ef-4c6a-b99c-9f2b49e8863a",
   "metadata": {},
   "outputs": [],
   "source": [
    "#import libraries\n",
    "\n",
    "import numpy as np\n",
    "import pandas as pd\n",
    "import matplotlib.pyplot as plt\n",
    "from matplotlib.colors import ListedColormap\n",
    "import matplotlib.colors as colors\n",
    "%matplotlib inline\n",
    "import seaborn as sns #visualization\n",
    "sns.set()\n",
    "from datetime import datetime"
   ]
  },
  {
   "cell_type": "code",
   "execution_count": 3,
   "id": "fce16408-5b39-459c-aa3c-cf3ae81c0c66",
   "metadata": {},
   "outputs": [],
   "source": [
    "df = pd.read_csv(\"C:/SEM 3/DAB 303(Marketing)/Final Project/adidas_usa.csv\") # reading dataset"
   ]
  },
  {
   "cell_type": "code",
   "execution_count": 4,
   "id": "10ff5df2-be31-4fa4-8a1e-68bfb1830618",
   "metadata": {},
   "outputs": [
    {
     "data": {
      "text/html": [
       "<div>\n",
       "<style scoped>\n",
       "    .dataframe tbody tr th:only-of-type {\n",
       "        vertical-align: middle;\n",
       "    }\n",
       "\n",
       "    .dataframe tbody tr th {\n",
       "        vertical-align: top;\n",
       "    }\n",
       "\n",
       "    .dataframe thead th {\n",
       "        text-align: right;\n",
       "    }\n",
       "</style>\n",
       "<table border=\"1\" class=\"dataframe\">\n",
       "  <thead>\n",
       "    <tr style=\"text-align: right;\">\n",
       "      <th></th>\n",
       "      <th>url</th>\n",
       "      <th>name</th>\n",
       "      <th>sku</th>\n",
       "      <th>selling_price</th>\n",
       "      <th>original_price</th>\n",
       "      <th>currency</th>\n",
       "      <th>availability</th>\n",
       "      <th>color</th>\n",
       "      <th>category</th>\n",
       "      <th>source</th>\n",
       "      <th>source_website</th>\n",
       "      <th>breadcrumbs</th>\n",
       "      <th>description</th>\n",
       "      <th>brand</th>\n",
       "      <th>images</th>\n",
       "      <th>country</th>\n",
       "      <th>language</th>\n",
       "      <th>average_rating</th>\n",
       "      <th>reviews_count</th>\n",
       "      <th>crawled_at</th>\n",
       "    </tr>\n",
       "  </thead>\n",
       "  <tbody>\n",
       "    <tr>\n",
       "      <th>0</th>\n",
       "      <td>https://www.adidas.com/us/beach-shorts/FJ5089....</td>\n",
       "      <td>Beach Shorts</td>\n",
       "      <td>FJ5089</td>\n",
       "      <td>40</td>\n",
       "      <td>NaN</td>\n",
       "      <td>USD</td>\n",
       "      <td>InStock</td>\n",
       "      <td>Black</td>\n",
       "      <td>Clothing</td>\n",
       "      <td>adidas United States</td>\n",
       "      <td>https://www.adidas.com</td>\n",
       "      <td>Women/Clothing</td>\n",
       "      <td>Splashing in the surf. Making memories with yo...</td>\n",
       "      <td>adidas</td>\n",
       "      <td>https://assets.adidas.com/images/w_600,f_auto,...</td>\n",
       "      <td>USA</td>\n",
       "      <td>en</td>\n",
       "      <td>4.5</td>\n",
       "      <td>35</td>\n",
       "      <td>2021-10-23 17:50:17.331255</td>\n",
       "    </tr>\n",
       "    <tr>\n",
       "      <th>1</th>\n",
       "      <td>https://www.adidas.com/us/five-ten-kestrel-lac...</td>\n",
       "      <td>Five Ten Kestrel Lace Mountain Bike Shoes</td>\n",
       "      <td>BC0770</td>\n",
       "      <td>150</td>\n",
       "      <td>NaN</td>\n",
       "      <td>USD</td>\n",
       "      <td>InStock</td>\n",
       "      <td>Grey</td>\n",
       "      <td>Shoes</td>\n",
       "      <td>adidas United States</td>\n",
       "      <td>https://www.adidas.com</td>\n",
       "      <td>Women/Shoes</td>\n",
       "      <td>Lace up and get after it. The Five Ten Kestrel...</td>\n",
       "      <td>adidas</td>\n",
       "      <td>https://assets.adidas.com/images/w_600,f_auto,...</td>\n",
       "      <td>USA</td>\n",
       "      <td>en</td>\n",
       "      <td>4.8</td>\n",
       "      <td>4</td>\n",
       "      <td>2021-10-23 17:50:17.423830</td>\n",
       "    </tr>\n",
       "    <tr>\n",
       "      <th>2</th>\n",
       "      <td>https://www.adidas.com/us/mexico-away-jersey/G...</td>\n",
       "      <td>Mexico Away Jersey</td>\n",
       "      <td>GC7946</td>\n",
       "      <td>70</td>\n",
       "      <td>NaN</td>\n",
       "      <td>USD</td>\n",
       "      <td>InStock</td>\n",
       "      <td>White</td>\n",
       "      <td>Clothing</td>\n",
       "      <td>adidas United States</td>\n",
       "      <td>https://www.adidas.com</td>\n",
       "      <td>Kids/Clothing</td>\n",
       "      <td>Clean and crisp, this adidas Mexico Away Jerse...</td>\n",
       "      <td>adidas</td>\n",
       "      <td>https://assets.adidas.com/images/w_600,f_auto,...</td>\n",
       "      <td>USA</td>\n",
       "      <td>en</td>\n",
       "      <td>4.9</td>\n",
       "      <td>42</td>\n",
       "      <td>2021-10-23 17:50:17.530834</td>\n",
       "    </tr>\n",
       "    <tr>\n",
       "      <th>3</th>\n",
       "      <td>https://www.adidas.com/us/five-ten-hiangle-pro...</td>\n",
       "      <td>Five Ten Hiangle Pro Competition Climbing Shoes</td>\n",
       "      <td>FV4744</td>\n",
       "      <td>160</td>\n",
       "      <td>NaN</td>\n",
       "      <td>USD</td>\n",
       "      <td>InStock</td>\n",
       "      <td>Black</td>\n",
       "      <td>Shoes</td>\n",
       "      <td>adidas United States</td>\n",
       "      <td>https://www.adidas.com</td>\n",
       "      <td>Five Ten/Shoes</td>\n",
       "      <td>The Hiangle Pro takes on the classic shape of ...</td>\n",
       "      <td>adidas</td>\n",
       "      <td>https://assets.adidas.com/images/w_600,f_auto,...</td>\n",
       "      <td>USA</td>\n",
       "      <td>en</td>\n",
       "      <td>3.7</td>\n",
       "      <td>7</td>\n",
       "      <td>2021-10-23 17:50:17.615054</td>\n",
       "    </tr>\n",
       "    <tr>\n",
       "      <th>4</th>\n",
       "      <td>https://www.adidas.com/us/mesh-broken-stripe-p...</td>\n",
       "      <td>Mesh Broken-Stripe Polo Shirt</td>\n",
       "      <td>GM0239</td>\n",
       "      <td>65</td>\n",
       "      <td>NaN</td>\n",
       "      <td>USD</td>\n",
       "      <td>InStock</td>\n",
       "      <td>Blue</td>\n",
       "      <td>Clothing</td>\n",
       "      <td>adidas United States</td>\n",
       "      <td>https://www.adidas.com</td>\n",
       "      <td>Men/Clothing</td>\n",
       "      <td>Step up to the tee relaxed. This adidas golf p...</td>\n",
       "      <td>adidas</td>\n",
       "      <td>https://assets.adidas.com/images/w_600,f_auto,...</td>\n",
       "      <td>USA</td>\n",
       "      <td>en</td>\n",
       "      <td>4.7</td>\n",
       "      <td>11</td>\n",
       "      <td>2021-10-23 17:50:17.702680</td>\n",
       "    </tr>\n",
       "  </tbody>\n",
       "</table>\n",
       "</div>"
      ],
      "text/plain": [
       "                                                 url  \\\n",
       "0  https://www.adidas.com/us/beach-shorts/FJ5089....   \n",
       "1  https://www.adidas.com/us/five-ten-kestrel-lac...   \n",
       "2  https://www.adidas.com/us/mexico-away-jersey/G...   \n",
       "3  https://www.adidas.com/us/five-ten-hiangle-pro...   \n",
       "4  https://www.adidas.com/us/mesh-broken-stripe-p...   \n",
       "\n",
       "                                              name     sku  selling_price  \\\n",
       "0                                     Beach Shorts  FJ5089             40   \n",
       "1        Five Ten Kestrel Lace Mountain Bike Shoes  BC0770            150   \n",
       "2                               Mexico Away Jersey  GC7946             70   \n",
       "3  Five Ten Hiangle Pro Competition Climbing Shoes  FV4744            160   \n",
       "4                    Mesh Broken-Stripe Polo Shirt  GM0239             65   \n",
       "\n",
       "  original_price currency availability  color  category                source  \\\n",
       "0            NaN      USD      InStock  Black  Clothing  adidas United States   \n",
       "1            NaN      USD      InStock   Grey     Shoes  adidas United States   \n",
       "2            NaN      USD      InStock  White  Clothing  adidas United States   \n",
       "3            NaN      USD      InStock  Black     Shoes  adidas United States   \n",
       "4            NaN      USD      InStock   Blue  Clothing  adidas United States   \n",
       "\n",
       "           source_website     breadcrumbs  \\\n",
       "0  https://www.adidas.com  Women/Clothing   \n",
       "1  https://www.adidas.com     Women/Shoes   \n",
       "2  https://www.adidas.com   Kids/Clothing   \n",
       "3  https://www.adidas.com  Five Ten/Shoes   \n",
       "4  https://www.adidas.com    Men/Clothing   \n",
       "\n",
       "                                         description   brand  \\\n",
       "0  Splashing in the surf. Making memories with yo...  adidas   \n",
       "1  Lace up and get after it. The Five Ten Kestrel...  adidas   \n",
       "2  Clean and crisp, this adidas Mexico Away Jerse...  adidas   \n",
       "3  The Hiangle Pro takes on the classic shape of ...  adidas   \n",
       "4  Step up to the tee relaxed. This adidas golf p...  adidas   \n",
       "\n",
       "                                              images country language  \\\n",
       "0  https://assets.adidas.com/images/w_600,f_auto,...     USA       en   \n",
       "1  https://assets.adidas.com/images/w_600,f_auto,...     USA       en   \n",
       "2  https://assets.adidas.com/images/w_600,f_auto,...     USA       en   \n",
       "3  https://assets.adidas.com/images/w_600,f_auto,...     USA       en   \n",
       "4  https://assets.adidas.com/images/w_600,f_auto,...     USA       en   \n",
       "\n",
       "   average_rating  reviews_count                  crawled_at  \n",
       "0             4.5             35  2021-10-23 17:50:17.331255  \n",
       "1             4.8              4  2021-10-23 17:50:17.423830  \n",
       "2             4.9             42  2021-10-23 17:50:17.530834  \n",
       "3             3.7              7  2021-10-23 17:50:17.615054  \n",
       "4             4.7             11  2021-10-23 17:50:17.702680  "
      ]
     },
     "execution_count": 4,
     "metadata": {},
     "output_type": "execute_result"
    }
   ],
   "source": [
    "df.head()    # First 5 records in the DataFrame"
   ]
  },
  {
   "cell_type": "code",
   "execution_count": 5,
   "id": "dbca9cac-1175-4493-820b-6143c75fdb2c",
   "metadata": {},
   "outputs": [
    {
     "name": "stdout",
     "output_type": "stream",
     "text": [
      "<class 'pandas.core.frame.DataFrame'>\n",
      "RangeIndex: 845 entries, 0 to 844\n",
      "Data columns (total 20 columns):\n",
      " #   Column          Non-Null Count  Dtype  \n",
      "---  ------          --------------  -----  \n",
      " 0   url             845 non-null    object \n",
      " 1   name            845 non-null    object \n",
      " 2   sku             845 non-null    object \n",
      " 3   selling_price   845 non-null    int64  \n",
      " 4   original_price  829 non-null    object \n",
      " 5   currency        845 non-null    object \n",
      " 6   availability    845 non-null    object \n",
      " 7   color           845 non-null    object \n",
      " 8   category        845 non-null    object \n",
      " 9   source          845 non-null    object \n",
      " 10  source_website  845 non-null    object \n",
      " 11  breadcrumbs     845 non-null    object \n",
      " 12  description     845 non-null    object \n",
      " 13  brand           845 non-null    object \n",
      " 14  images          845 non-null    object \n",
      " 15  country         845 non-null    object \n",
      " 16  language        845 non-null    object \n",
      " 17  average_rating  845 non-null    float64\n",
      " 18  reviews_count   845 non-null    int64  \n",
      " 19  crawled_at      845 non-null    object \n",
      "dtypes: float64(1), int64(2), object(17)\n",
      "memory usage: 132.2+ KB\n"
     ]
    }
   ],
   "source": [
    "df.info()   # Information about the DataFrame"
   ]
  },
  {
   "cell_type": "code",
   "execution_count": 6,
   "id": "d37952bb-c3b8-4736-8b0e-a8495e7fdab1",
   "metadata": {},
   "outputs": [
    {
     "data": {
      "text/plain": [
       "(845, 20)"
      ]
     },
     "execution_count": 6,
     "metadata": {},
     "output_type": "execute_result"
    }
   ],
   "source": [
    "df.shape ## Shape of the DataFrame"
   ]
  },
  {
   "cell_type": "code",
   "execution_count": 7,
   "id": "15c27ea5-d48c-44bb-9de5-0cef8949ad74",
   "metadata": {},
   "outputs": [
    {
     "data": {
      "text/plain": [
       "url                0\n",
       "name               0\n",
       "sku                0\n",
       "selling_price      0\n",
       "original_price    16\n",
       "currency           0\n",
       "availability       0\n",
       "color              0\n",
       "category           0\n",
       "source             0\n",
       "source_website     0\n",
       "breadcrumbs        0\n",
       "description        0\n",
       "brand              0\n",
       "images             0\n",
       "country            0\n",
       "language           0\n",
       "average_rating     0\n",
       "reviews_count      0\n",
       "crawled_at         0\n",
       "dtype: int64"
      ]
     },
     "execution_count": 7,
     "metadata": {},
     "output_type": "execute_result"
    }
   ],
   "source": [
    "df.isna().sum() #Checking for Null Values in the DataFrame\n"
   ]
  },
  {
   "cell_type": "code",
   "execution_count": 8,
   "id": "50b0f99d-1c3a-4fc3-be61-9b2820300649",
   "metadata": {},
   "outputs": [
    {
     "data": {
      "text/html": [
       "<div>\n",
       "<style scoped>\n",
       "    .dataframe tbody tr th:only-of-type {\n",
       "        vertical-align: middle;\n",
       "    }\n",
       "\n",
       "    .dataframe tbody tr th {\n",
       "        vertical-align: top;\n",
       "    }\n",
       "\n",
       "    .dataframe thead th {\n",
       "        text-align: right;\n",
       "    }\n",
       "</style>\n",
       "<table border=\"1\" class=\"dataframe\">\n",
       "  <thead>\n",
       "    <tr style=\"text-align: right;\">\n",
       "      <th></th>\n",
       "      <th>selling_price</th>\n",
       "      <th>average_rating</th>\n",
       "      <th>reviews_count</th>\n",
       "    </tr>\n",
       "  </thead>\n",
       "  <tbody>\n",
       "    <tr>\n",
       "      <th>selling_price</th>\n",
       "      <td>1.000000</td>\n",
       "      <td>-0.213004</td>\n",
       "      <td>0.102654</td>\n",
       "    </tr>\n",
       "    <tr>\n",
       "      <th>average_rating</th>\n",
       "      <td>-0.213004</td>\n",
       "      <td>1.000000</td>\n",
       "      <td>0.023585</td>\n",
       "    </tr>\n",
       "    <tr>\n",
       "      <th>reviews_count</th>\n",
       "      <td>0.102654</td>\n",
       "      <td>0.023585</td>\n",
       "      <td>1.000000</td>\n",
       "    </tr>\n",
       "  </tbody>\n",
       "</table>\n",
       "</div>"
      ],
      "text/plain": [
       "                selling_price  average_rating  reviews_count\n",
       "selling_price        1.000000       -0.213004       0.102654\n",
       "average_rating      -0.213004        1.000000       0.023585\n",
       "reviews_count        0.102654        0.023585       1.000000"
      ]
     },
     "execution_count": 8,
     "metadata": {},
     "output_type": "execute_result"
    }
   ],
   "source": [
    "# Correlation Between Columns\n",
    "\n",
    "df.corr()"
   ]
  },
  {
   "cell_type": "code",
   "execution_count": 9,
   "id": "9b45a36a-13e6-4a35-8d9e-e85b31c12e0d",
   "metadata": {},
   "outputs": [
    {
     "data": {
      "text/html": [
       "<div>\n",
       "<style scoped>\n",
       "    .dataframe tbody tr th:only-of-type {\n",
       "        vertical-align: middle;\n",
       "    }\n",
       "\n",
       "    .dataframe tbody tr th {\n",
       "        vertical-align: top;\n",
       "    }\n",
       "\n",
       "    .dataframe thead th {\n",
       "        text-align: right;\n",
       "    }\n",
       "</style>\n",
       "<table border=\"1\" class=\"dataframe\">\n",
       "  <thead>\n",
       "    <tr style=\"text-align: right;\">\n",
       "      <th></th>\n",
       "      <th>count</th>\n",
       "      <th>mean</th>\n",
       "      <th>std</th>\n",
       "      <th>min</th>\n",
       "      <th>25%</th>\n",
       "      <th>50%</th>\n",
       "      <th>75%</th>\n",
       "      <th>max</th>\n",
       "    </tr>\n",
       "  </thead>\n",
       "  <tbody>\n",
       "    <tr>\n",
       "      <th>selling_price</th>\n",
       "      <td>845.0</td>\n",
       "      <td>53.192899</td>\n",
       "      <td>31.411645</td>\n",
       "      <td>9.0</td>\n",
       "      <td>28.0</td>\n",
       "      <td>48.0</td>\n",
       "      <td>70.0</td>\n",
       "      <td>240.0</td>\n",
       "    </tr>\n",
       "    <tr>\n",
       "      <th>average_rating</th>\n",
       "      <td>845.0</td>\n",
       "      <td>4.608402</td>\n",
       "      <td>0.293795</td>\n",
       "      <td>1.0</td>\n",
       "      <td>4.5</td>\n",
       "      <td>4.7</td>\n",
       "      <td>4.8</td>\n",
       "      <td>5.0</td>\n",
       "    </tr>\n",
       "    <tr>\n",
       "      <th>reviews_count</th>\n",
       "      <td>845.0</td>\n",
       "      <td>426.178698</td>\n",
       "      <td>1229.158277</td>\n",
       "      <td>1.0</td>\n",
       "      <td>19.0</td>\n",
       "      <td>68.0</td>\n",
       "      <td>314.0</td>\n",
       "      <td>11750.0</td>\n",
       "    </tr>\n",
       "  </tbody>\n",
       "</table>\n",
       "</div>"
      ],
      "text/plain": [
       "                count        mean          std  min   25%   50%    75%  \\\n",
       "selling_price   845.0   53.192899    31.411645  9.0  28.0  48.0   70.0   \n",
       "average_rating  845.0    4.608402     0.293795  1.0   4.5   4.7    4.8   \n",
       "reviews_count   845.0  426.178698  1229.158277  1.0  19.0  68.0  314.0   \n",
       "\n",
       "                    max  \n",
       "selling_price     240.0  \n",
       "average_rating      5.0  \n",
       "reviews_count   11750.0  "
      ]
     },
     "execution_count": 9,
     "metadata": {},
     "output_type": "execute_result"
    }
   ],
   "source": [
    "# Statistical informtion about the DataFrame\n",
    "\n",
    "df.describe().T"
   ]
  },
  {
   "cell_type": "code",
   "execution_count": 10,
   "id": "7e151c1b-4604-478a-b6b5-544ae14059ad",
   "metadata": {},
   "outputs": [
    {
     "data": {
      "text/plain": [
       "1.8934911242603552"
      ]
     },
     "execution_count": 10,
     "metadata": {},
     "output_type": "execute_result"
    }
   ],
   "source": [
    "# The Percentage of Missing Values in the 'original_price' Column\n",
    "\n",
    "100 * (df['original_price'].isna().sum() / len(df))\n",
    "\n",
    "# As the percntage of Null Records is less than 5%, hence dropping the Null record Rows"
   ]
  },
  {
   "cell_type": "code",
   "execution_count": 11,
   "id": "2d8c19fe-4731-42c7-a8c8-d8f477267084",
   "metadata": {},
   "outputs": [],
   "source": [
    "# Dropping Null Values in the DataFrame\n",
    "\n",
    "df.dropna(inplace=True, axis=0)"
   ]
  },
  {
   "cell_type": "code",
   "execution_count": 12,
   "id": "043c772b-ad0b-4662-ba1a-7c385ed5a33c",
   "metadata": {},
   "outputs": [
    {
     "data": {
      "text/plain": [
       "url               0\n",
       "name              0\n",
       "sku               0\n",
       "selling_price     0\n",
       "original_price    0\n",
       "currency          0\n",
       "availability      0\n",
       "color             0\n",
       "category          0\n",
       "source            0\n",
       "source_website    0\n",
       "breadcrumbs       0\n",
       "description       0\n",
       "brand             0\n",
       "images            0\n",
       "country           0\n",
       "language          0\n",
       "average_rating    0\n",
       "reviews_count     0\n",
       "crawled_at        0\n",
       "dtype: int64"
      ]
     },
     "execution_count": 12,
     "metadata": {},
     "output_type": "execute_result"
    }
   ],
   "source": [
    "# Checking for Null Values in the DataFrame\n",
    "\n",
    "df.isna().sum()"
   ]
  },
  {
   "cell_type": "code",
   "execution_count": 13,
   "id": "96928d7a-4ff5-48a3-84c6-b17be121dd49",
   "metadata": {},
   "outputs": [],
   "source": [
    "# Dropping 'currency' column as all records have 'USD' as currency\n",
    "# Dropping 'source' column as all records have 'adidas United States' as value\n",
    "# Dropping 'brand', 'country', 'language' columns as all records have same value\n",
    "\n",
    "df.drop([ 'brand', 'country', 'language', 'source_website', 'images', 'crawled_at', 'url', 'sku', 'currency','source', 'description'], axis=1, inplace=True)"
   ]
  },
  {
   "cell_type": "code",
   "execution_count": 14,
   "id": "e9161008-1b21-4ab0-ae70-3a7d2d8db950",
   "metadata": {},
   "outputs": [
    {
     "data": {
      "text/html": [
       "<div>\n",
       "<style scoped>\n",
       "    .dataframe tbody tr th:only-of-type {\n",
       "        vertical-align: middle;\n",
       "    }\n",
       "\n",
       "    .dataframe tbody tr th {\n",
       "        vertical-align: top;\n",
       "    }\n",
       "\n",
       "    .dataframe thead th {\n",
       "        text-align: right;\n",
       "    }\n",
       "</style>\n",
       "<table border=\"1\" class=\"dataframe\">\n",
       "  <thead>\n",
       "    <tr style=\"text-align: right;\">\n",
       "      <th></th>\n",
       "      <th>name</th>\n",
       "      <th>selling_price</th>\n",
       "      <th>original_price</th>\n",
       "      <th>availability</th>\n",
       "      <th>color</th>\n",
       "      <th>category</th>\n",
       "      <th>breadcrumbs</th>\n",
       "      <th>average_rating</th>\n",
       "      <th>reviews_count</th>\n",
       "    </tr>\n",
       "  </thead>\n",
       "  <tbody>\n",
       "    <tr>\n",
       "      <th>15</th>\n",
       "      <td>Essentials Loose Logo Tank Top</td>\n",
       "      <td>20</td>\n",
       "      <td>$25</td>\n",
       "      <td>InStock</td>\n",
       "      <td>Purple</td>\n",
       "      <td>Clothing</td>\n",
       "      <td>Women/Clothing</td>\n",
       "      <td>4.8</td>\n",
       "      <td>116</td>\n",
       "    </tr>\n",
       "    <tr>\n",
       "      <th>16</th>\n",
       "      <td>Essentials Loose Logo Tank Top</td>\n",
       "      <td>20</td>\n",
       "      <td>$25</td>\n",
       "      <td>InStock</td>\n",
       "      <td>Pink</td>\n",
       "      <td>Clothing</td>\n",
       "      <td>Women/Clothing</td>\n",
       "      <td>4.8</td>\n",
       "      <td>116</td>\n",
       "    </tr>\n",
       "    <tr>\n",
       "      <th>18</th>\n",
       "      <td>Essentials Loose Logo Tank Top</td>\n",
       "      <td>20</td>\n",
       "      <td>$25</td>\n",
       "      <td>InStock</td>\n",
       "      <td>Green</td>\n",
       "      <td>Clothing</td>\n",
       "      <td>Women/Clothing</td>\n",
       "      <td>4.8</td>\n",
       "      <td>116</td>\n",
       "    </tr>\n",
       "    <tr>\n",
       "      <th>19</th>\n",
       "      <td>Formotion Sculpt Tights</td>\n",
       "      <td>48</td>\n",
       "      <td>$80</td>\n",
       "      <td>InStock</td>\n",
       "      <td>Blue</td>\n",
       "      <td>Clothing</td>\n",
       "      <td>Women/Clothing</td>\n",
       "      <td>4.2</td>\n",
       "      <td>144</td>\n",
       "    </tr>\n",
       "    <tr>\n",
       "      <th>20</th>\n",
       "      <td>Marvel X Ghosted.3 Firm Ground Cleats</td>\n",
       "      <td>64</td>\n",
       "      <td>$80</td>\n",
       "      <td>InStock</td>\n",
       "      <td>Blue</td>\n",
       "      <td>Shoes</td>\n",
       "      <td>Soccer/Shoes</td>\n",
       "      <td>4.4</td>\n",
       "      <td>160</td>\n",
       "    </tr>\n",
       "  </tbody>\n",
       "</table>\n",
       "</div>"
      ],
      "text/plain": [
       "                                     name  selling_price original_price  \\\n",
       "15         Essentials Loose Logo Tank Top             20            $25   \n",
       "16         Essentials Loose Logo Tank Top             20            $25   \n",
       "18         Essentials Loose Logo Tank Top             20            $25   \n",
       "19                Formotion Sculpt Tights             48            $80   \n",
       "20  Marvel X Ghosted.3 Firm Ground Cleats             64            $80   \n",
       "\n",
       "   availability   color  category     breadcrumbs  average_rating  \\\n",
       "15      InStock  Purple  Clothing  Women/Clothing             4.8   \n",
       "16      InStock    Pink  Clothing  Women/Clothing             4.8   \n",
       "18      InStock   Green  Clothing  Women/Clothing             4.8   \n",
       "19      InStock    Blue  Clothing  Women/Clothing             4.2   \n",
       "20      InStock    Blue     Shoes    Soccer/Shoes             4.4   \n",
       "\n",
       "    reviews_count  \n",
       "15            116  \n",
       "16            116  \n",
       "18            116  \n",
       "19            144  \n",
       "20            160  "
      ]
     },
     "execution_count": 14,
     "metadata": {},
     "output_type": "execute_result"
    }
   ],
   "source": [
    "# First 5 records in the DataFrame\n",
    "\n",
    "df.head()"
   ]
  },
  {
   "cell_type": "code",
   "execution_count": 15,
   "id": "a44260d7-79ca-43b9-afd9-92f15a8d7753",
   "metadata": {},
   "outputs": [
    {
     "data": {
      "text/plain": [
       "(829, 9)"
      ]
     },
     "execution_count": 15,
     "metadata": {},
     "output_type": "execute_result"
    }
   ],
   "source": [
    "df.shape # Shape of the DataFrame"
   ]
  },
  {
   "cell_type": "code",
   "execution_count": 16,
   "id": "8684df30-70a7-4c24-928c-7a9d8bd37d03",
   "metadata": {},
   "outputs": [
    {
     "data": {
      "text/plain": [
       "name               object\n",
       "selling_price       int64\n",
       "original_price     object\n",
       "availability       object\n",
       "color              object\n",
       "category           object\n",
       "breadcrumbs        object\n",
       "average_rating    float64\n",
       "reviews_count       int64\n",
       "dtype: object"
      ]
     },
     "execution_count": 16,
     "metadata": {},
     "output_type": "execute_result"
    }
   ],
   "source": [
    "df.dtypes # Checking the Data Types for the columns"
   ]
  },
  {
   "cell_type": "code",
   "execution_count": 17,
   "id": "46a50490-df92-4063-80a1-3cd374ccb41c",
   "metadata": {},
   "outputs": [],
   "source": [
    "# Removing '$' from the DataFrame\n",
    "\n",
    "df['original_price'] = df['original_price'].str.split('$')\n",
    "\n",
    "df['original_price'] = df['original_price'].str[1]"
   ]
  },
  {
   "cell_type": "code",
   "execution_count": 18,
   "id": "95a05369-ed62-4d31-8d69-b4d2a7e4d085",
   "metadata": {},
   "outputs": [
    {
     "data": {
      "text/html": [
       "<div>\n",
       "<style scoped>\n",
       "    .dataframe tbody tr th:only-of-type {\n",
       "        vertical-align: middle;\n",
       "    }\n",
       "\n",
       "    .dataframe tbody tr th {\n",
       "        vertical-align: top;\n",
       "    }\n",
       "\n",
       "    .dataframe thead th {\n",
       "        text-align: right;\n",
       "    }\n",
       "</style>\n",
       "<table border=\"1\" class=\"dataframe\">\n",
       "  <thead>\n",
       "    <tr style=\"text-align: right;\">\n",
       "      <th></th>\n",
       "      <th>name</th>\n",
       "      <th>selling_price</th>\n",
       "      <th>original_price</th>\n",
       "      <th>availability</th>\n",
       "      <th>color</th>\n",
       "      <th>category</th>\n",
       "      <th>breadcrumbs</th>\n",
       "      <th>average_rating</th>\n",
       "      <th>reviews_count</th>\n",
       "    </tr>\n",
       "  </thead>\n",
       "  <tbody>\n",
       "    <tr>\n",
       "      <th>15</th>\n",
       "      <td>Essentials Loose Logo Tank Top</td>\n",
       "      <td>20</td>\n",
       "      <td>25</td>\n",
       "      <td>InStock</td>\n",
       "      <td>Purple</td>\n",
       "      <td>Clothing</td>\n",
       "      <td>Women/Clothing</td>\n",
       "      <td>4.8</td>\n",
       "      <td>116</td>\n",
       "    </tr>\n",
       "    <tr>\n",
       "      <th>16</th>\n",
       "      <td>Essentials Loose Logo Tank Top</td>\n",
       "      <td>20</td>\n",
       "      <td>25</td>\n",
       "      <td>InStock</td>\n",
       "      <td>Pink</td>\n",
       "      <td>Clothing</td>\n",
       "      <td>Women/Clothing</td>\n",
       "      <td>4.8</td>\n",
       "      <td>116</td>\n",
       "    </tr>\n",
       "    <tr>\n",
       "      <th>18</th>\n",
       "      <td>Essentials Loose Logo Tank Top</td>\n",
       "      <td>20</td>\n",
       "      <td>25</td>\n",
       "      <td>InStock</td>\n",
       "      <td>Green</td>\n",
       "      <td>Clothing</td>\n",
       "      <td>Women/Clothing</td>\n",
       "      <td>4.8</td>\n",
       "      <td>116</td>\n",
       "    </tr>\n",
       "    <tr>\n",
       "      <th>19</th>\n",
       "      <td>Formotion Sculpt Tights</td>\n",
       "      <td>48</td>\n",
       "      <td>80</td>\n",
       "      <td>InStock</td>\n",
       "      <td>Blue</td>\n",
       "      <td>Clothing</td>\n",
       "      <td>Women/Clothing</td>\n",
       "      <td>4.2</td>\n",
       "      <td>144</td>\n",
       "    </tr>\n",
       "    <tr>\n",
       "      <th>20</th>\n",
       "      <td>Marvel X Ghosted.3 Firm Ground Cleats</td>\n",
       "      <td>64</td>\n",
       "      <td>80</td>\n",
       "      <td>InStock</td>\n",
       "      <td>Blue</td>\n",
       "      <td>Shoes</td>\n",
       "      <td>Soccer/Shoes</td>\n",
       "      <td>4.4</td>\n",
       "      <td>160</td>\n",
       "    </tr>\n",
       "  </tbody>\n",
       "</table>\n",
       "</div>"
      ],
      "text/plain": [
       "                                     name  selling_price original_price  \\\n",
       "15         Essentials Loose Logo Tank Top             20             25   \n",
       "16         Essentials Loose Logo Tank Top             20             25   \n",
       "18         Essentials Loose Logo Tank Top             20             25   \n",
       "19                Formotion Sculpt Tights             48             80   \n",
       "20  Marvel X Ghosted.3 Firm Ground Cleats             64             80   \n",
       "\n",
       "   availability   color  category     breadcrumbs  average_rating  \\\n",
       "15      InStock  Purple  Clothing  Women/Clothing             4.8   \n",
       "16      InStock    Pink  Clothing  Women/Clothing             4.8   \n",
       "18      InStock   Green  Clothing  Women/Clothing             4.8   \n",
       "19      InStock    Blue  Clothing  Women/Clothing             4.2   \n",
       "20      InStock    Blue     Shoes    Soccer/Shoes             4.4   \n",
       "\n",
       "    reviews_count  \n",
       "15            116  \n",
       "16            116  \n",
       "18            116  \n",
       "19            144  \n",
       "20            160  "
      ]
     },
     "execution_count": 18,
     "metadata": {},
     "output_type": "execute_result"
    }
   ],
   "source": [
    "df.head() # First 5 records in the DataFrame"
   ]
  },
  {
   "cell_type": "code",
   "execution_count": 19,
   "id": "8ff1f5bd-6615-49ef-8eda-9d726232fafd",
   "metadata": {},
   "outputs": [],
   "source": [
    "# Changing the DataType of 'original_price' from object to int64\n",
    "\n",
    "df['original_price'] = df['original_price'].astype('int64')"
   ]
  },
  {
   "cell_type": "code",
   "execution_count": 20,
   "id": "8ea2a45a-e46c-4af9-a060-78eed9e4262a",
   "metadata": {
    "tags": []
   },
   "outputs": [
    {
     "data": {
      "text/plain": [
       "name               object\n",
       "selling_price       int64\n",
       "original_price      int64\n",
       "availability       object\n",
       "color              object\n",
       "category           object\n",
       "breadcrumbs        object\n",
       "average_rating    float64\n",
       "reviews_count       int64\n",
       "dtype: object"
      ]
     },
     "execution_count": 20,
     "metadata": {},
     "output_type": "execute_result"
    }
   ],
   "source": [
    "df.dtypes"
   ]
  },
  {
   "cell_type": "markdown",
   "id": "e674ebb9-b101-4935-bea9-80bbfd61f54f",
   "metadata": {},
   "source": [
    "  # Data Visualization "
   ]
  },
  {
   "cell_type": "markdown",
   "id": "b8e74e0e-26cb-4823-9a27-507ec78a5f35",
   "metadata": {},
   "source": [
    "# Heat-Map"
   ]
  },
  {
   "cell_type": "code",
   "execution_count": 21,
   "id": "45e14296-ff39-4454-9978-c360eb250c4d",
   "metadata": {},
   "outputs": [
    {
     "data": {
      "image/png": "[encoded data removed]",
      "text/plain": [
       "<Figure size 432x288 with 2 Axes>"
      ]
     },
     "metadata": {},
     "output_type": "display_data"
    }
   ],
   "source": [
    "sns.heatmap(df.corr(), annot=True, cmap='plasma')\n",
    "plt.show();"
   ]
  },
  {
   "cell_type": "markdown",
   "id": "73a6a42b-7013-46c0-8070-07dcddf1881f",
   "metadata": {},
   "source": [
    "# Average Rating"
   ]
  },
  {
   "cell_type": "code",
   "execution_count": 22,
   "id": "c68b4b6c-4cb7-4338-b2ed-f35f394b933a",
   "metadata": {},
   "outputs": [
    {
     "data": {
      "text/plain": [
       "array([4.8, 4.2, 4.4, 4.5, 4.6, 5. , 4.7, 4.3, 4. , 4.9, 3.9, 3.7, 3. ,\n",
       "       4.1, 1. , 3.8])"
      ]
     },
     "execution_count": 22,
     "metadata": {},
     "output_type": "execute_result"
    }
   ],
   "source": [
    "# Unique 'Average Rating'in the DataFrame\n",
    "\n",
    "df['average_rating'].unique()"
   ]
  },
  {
   "cell_type": "code",
   "execution_count": 23,
   "id": "d5a7ed72-b084-49bd-a223-8577c7ba9acb",
   "metadata": {},
   "outputs": [
    {
     "data": {
      "text/plain": [
       "16"
      ]
     },
     "execution_count": 23,
     "metadata": {},
     "output_type": "execute_result"
    }
   ],
   "source": [
    "# No.of Unique 'Average Rating'in the DataFrame\n",
    "\n",
    "df['average_rating'].nunique()"
   ]
  },
  {
   "cell_type": "code",
   "execution_count": 24,
   "id": "3e2353c1-bae9-4494-8f91-8241bc8eb953",
   "metadata": {},
   "outputs": [
    {
     "data": {
      "text/plain": [
       "4.8    161\n",
       "4.7    159\n",
       "4.6    120\n",
       "4.5     99\n",
       "5.0     70\n",
       "4.2     51\n",
       "4.4     49\n",
       "4.9     44\n",
       "4.3     29\n",
       "3.9     14\n",
       "4.1     14\n",
       "4.0     12\n",
       "3.7      4\n",
       "3.0      1\n",
       "1.0      1\n",
       "3.8      1\n",
       "Name: average_rating, dtype: int64"
      ]
     },
     "execution_count": 24,
     "metadata": {},
     "output_type": "execute_result"
    }
   ],
   "source": [
    "# No.of time particular Average Rating Provided\n",
    "\n",
    "df['average_rating'].value_counts()"
   ]
  },
  {
   "cell_type": "code",
   "execution_count": 25,
   "id": "d01172df-e7ba-45aa-aa45-6ca1153e0097",
   "metadata": {},
   "outputs": [
    {
     "data": {
      "image/png": "[encoded data removed]",
      "text/plain": [
       "<Figure size 864x288 with 1 Axes>"
      ]
     },
     "metadata": {},
     "output_type": "display_data"
    }
   ],
   "source": [
    "# Top 5 - Average Rating Provided\n",
    "\n",
    "plt.figure(figsize=(12,4))\n",
    "df['average_rating'].value_counts().head(5).plot(kind='barh',color={'red','yellow','blue','pink','purple'})\n",
    "plt.ylabel(\"Average Rating\")\n",
    "plt.xlabel(\"No.of times particular rating provided\")\n",
    "plt.title(\"Top 5 - Average Rating Provided in the DataFrame\")\n",
    "plt.show();"
   ]
  },
  {
   "cell_type": "code",
   "execution_count": 26,
   "id": "cae22b83-58ba-4828-9832-93f1db18e5a1",
   "metadata": {},
   "outputs": [
    {
     "data": {
      "image/png": "[encoded data removed]",
      "text/plain": [
       "<Figure size 720x288 with 1 Axes>"
      ]
     },
     "metadata": {},
     "output_type": "display_data"
    }
   ],
   "source": [
    "# Top 5 - Average Rating Provided\n",
    "\n",
    "labels = df['average_rating'].value_counts().head(5).index\n",
    "pie, ax = plt.subplots(figsize=[10,4])\n",
    "plt.pie(x=df['average_rating'].value_counts().head(5).values, autopct=\"%.1f%%\", explode=[0.05]*5, labels=labels, pctdistance=0.5)\n",
    "plt.title(\"# Top 5 - Average Rating Provided in the DataFrame\", fontsize=14);\n",
    "plt.tight_layout();"
   ]
  },
  {
   "cell_type": "code",
   "execution_count": 27,
   "id": "6481859d-4bd1-40b5-837d-1006a8237d39",
   "metadata": {},
   "outputs": [
    {
     "data": {
      "text/plain": [
       "5.0"
      ]
     },
     "execution_count": 27,
     "metadata": {},
     "output_type": "execute_result"
    }
   ],
   "source": [
    "# Maxmimum Average Rating\n",
    "\n",
    "df['average_rating'].max()"
   ]
  },
  {
   "cell_type": "code",
   "execution_count": 28,
   "id": "ffdefb42-2e3e-4a5d-925b-5c8878aec969",
   "metadata": {},
   "outputs": [
    {
     "data": {
      "text/plain": [
       "1.0"
      ]
     },
     "execution_count": 28,
     "metadata": {},
     "output_type": "execute_result"
    }
   ],
   "source": [
    "# Minimum Average Rating\n",
    "\n",
    "df['average_rating'].min()"
   ]
  },
  {
   "cell_type": "code",
   "execution_count": 29,
   "id": "da9ddb0e-3999-4808-a9fc-6485767d92ac",
   "metadata": {},
   "outputs": [
    {
     "data": {
      "text/plain": [
       "4.61"
      ]
     },
     "execution_count": 29,
     "metadata": {},
     "output_type": "execute_result"
    }
   ],
   "source": [
    "# Mean Average Rating\n",
    "\n",
    "round(df['average_rating'].mean(),2)"
   ]
  },
  {
   "cell_type": "markdown",
   "id": "6fc8d488-268c-449b-83f3-afa53f01910b",
   "metadata": {},
   "source": [
    "#### The **Maximum** Average Rating among all products is '**5.0**' and **Minimum** Average Rating among all products is '**1.0**'"
   ]
  },
  {
   "cell_type": "markdown",
   "id": "d96c7ada-f9c8-486a-9d7c-cb1d498a00eb",
   "metadata": {},
   "source": [
    "# Reviews Count"
   ]
  },
  {
   "cell_type": "code",
   "execution_count": 30,
   "id": "e91951fe-dee3-4899-aefa-5b6c13e27bad",
   "metadata": {},
   "outputs": [
    {
     "data": {
      "text/plain": [
       "211"
      ]
     },
     "execution_count": 30,
     "metadata": {},
     "output_type": "execute_result"
    }
   ],
   "source": [
    "# No.of Unique 'Reviews Count' in the DataFrame\n",
    "\n",
    "df['reviews_count'].nunique()"
   ]
  },
  {
   "cell_type": "code",
   "execution_count": 31,
   "id": "f3509ddb-0fd7-4f85-9357-bdf20e9c1592",
   "metadata": {},
   "outputs": [
    {
     "data": {
      "text/plain": [
       "1      23\n",
       "2      21\n",
       "5      15\n",
       "9      15\n",
       "4      14\n",
       "8      14\n",
       "3      13\n",
       "562    12\n",
       "51     12\n",
       "454    12\n",
       "Name: reviews_count, dtype: int64"
      ]
     },
     "execution_count": 31,
     "metadata": {},
     "output_type": "execute_result"
    }
   ],
   "source": [
    "# Top 10 - 'Reviews Count' and no.of particular 'Reviews Count' occurances\n",
    "\n",
    "df['reviews_count'].value_counts().head(10)"
   ]
  },
  {
   "cell_type": "code",
   "execution_count": 32,
   "id": "2fb0b116-a8c0-4131-a1b1-9850414b197d",
   "metadata": {},
   "outputs": [
    {
     "data": {
      "image/png": "[encoded data removed]",
      "text/plain": [
       "<Figure size 864x288 with 1 Axes>"
      ]
     },
     "metadata": {},
     "output_type": "display_data"
    }
   ],
   "source": [
    "# Top 5 - 'Reviews Count' and no.of particular 'Reviews Count' occurances\n",
    "\n",
    "plt.figure(figsize=(12,4))\n",
    "df['average_rating'].value_counts().head(5).plot(kind='barh', color={'green','red','yellow', 'brown', 'orange'})\n",
    "plt.ylabel('Reviews Count')\n",
    "plt.xlabel('no.of Particular Reviews Count occurances')\n",
    "plt.title(\"Top 5 - 'Reviews Count' and no.of Particular 'Reviews Count' occurances\")\n",
    "plt.show();"
   ]
  },
  {
   "cell_type": "code",
   "execution_count": 33,
   "id": "123dde2e-f2db-4fa9-86d3-1c7ba5239d64",
   "metadata": {},
   "outputs": [
    {
     "data": {
      "text/plain": [
       "11750"
      ]
     },
     "execution_count": 33,
     "metadata": {},
     "output_type": "execute_result"
    }
   ],
   "source": [
    "# Maxmimum 'Reviews Count'\n",
    "\n",
    "df['reviews_count'].max()"
   ]
  },
  {
   "cell_type": "code",
   "execution_count": 34,
   "id": "ce7f6874-1453-4ba7-9d59-28147af8b097",
   "metadata": {},
   "outputs": [
    {
     "data": {
      "text/plain": [
       "1"
      ]
     },
     "execution_count": 34,
     "metadata": {},
     "output_type": "execute_result"
    }
   ],
   "source": [
    "# Minimum 'Reviews Count'\n",
    "\n",
    "df['reviews_count'].min()"
   ]
  },
  {
   "cell_type": "code",
   "execution_count": 35,
   "id": "8df92603-323d-4b90-a5d7-a7745b4a5c10",
   "metadata": {},
   "outputs": [
    {
     "data": {
      "text/plain": [
       "433.94"
      ]
     },
     "execution_count": 35,
     "metadata": {},
     "output_type": "execute_result"
    }
   ],
   "source": [
    "# Mean 'Reviews Count'\n",
    "\n",
    "round(df['reviews_count'].mean(),2)"
   ]
  },
  {
   "cell_type": "markdown",
   "id": "4d9fbb39-fac9-4847-8b34-fe4dbcc84208",
   "metadata": {},
   "source": [
    "#### The **Maximum** 'Reviews Count' among all products is '**11750**' and **Minimum** 'Reviews Count' among all products is '**1**'"
   ]
  },
  {
   "cell_type": "markdown",
   "id": "278d4188-cf48-4f28-8308-f5d2181c5fc4",
   "metadata": {},
   "source": [
    "# Reviews Count Vs. Average Rating"
   ]
  },
  {
   "cell_type": "code",
   "execution_count": 36,
   "id": "36fb9c06-ab57-4831-a202-26333bd2b798",
   "metadata": {},
   "outputs": [
    {
     "data": {
      "text/plain": [
       "<AxesSubplot:xlabel='average_rating', ylabel='reviews_count'>"
      ]
     },
     "execution_count": 36,
     "metadata": {},
     "output_type": "execute_result"
    },
    {
     "data": {
      "image/png": "[encoded data removed]",
      "text/plain": [
       "<Figure size 432x288 with 1 Axes>"
      ]
     },
     "metadata": {},
     "output_type": "display_data"
    }
   ],
   "source": [
    "sns.scatterplot(data=df, x='average_rating', y='reviews_count')"
   ]
  },
  {
   "cell_type": "markdown",
   "id": "06d96488-5b71-4709-bfd3-3223551367d1",
   "metadata": {},
   "source": [
    "#### The Correlation Between Reviews Count & Average Rating is '**0.024**' (positive correlation), from the graph we may can conclude that there are more number of reviews when particular product rated above **3.5** "
   ]
  },
  {
   "cell_type": "code",
   "execution_count": null,
   "id": "9e026118-bbb0-444f-8c29-79e7722df2db",
   "metadata": {},
   "outputs": [],
   "source": [
    " "
   ]
  }
 ],
 "metadata": {
  "kernelspec": {
   "display_name": "Python 3 (ipykernel)",
   "language": "python",
   "name": "python3"
  },
  "language_info": {
   "codemirror_mode": {
    "name": "ipython",
    "version": 3
   },
   "file_extension": ".py",
   "mimetype": "text/x-python",
   "name": "python",
   "nbconvert_exporter": "python",
   "pygments_lexer": "ipython3",
   "version": "3.9.7"
  }
 },
 "nbformat": 4,
 "nbformat_minor": 5
}
